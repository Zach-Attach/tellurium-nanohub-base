{
 "cells": [
  {
   "attachments": {},
   "cell_type": "markdown",
   "metadata": {},
   "source": [
    "# Homework #7\n",
    "### Zachary Laborde"
   ]
  },
  {
   "cell_type": "code",
   "execution_count": null,
   "metadata": {
    "id": "yJdoJG5VWECK"
   },
   "outputs": [],
   "source": [
    "# imports\n",
    "import tellurium as te\n",
    "import numpy as np\n",
    "import matplotlib.pyplot as plt\n",
    "import ipywidgets as widgets\n",
    "from IPython.display import display"
   ]
  },
  {
   "cell_type": "markdown",
   "metadata": {
    "id": "5LcQHfKEWECL"
   },
   "source": [
    "# Exercise 1: The basics\n",
    "\n",
    "1. Create a slider of floats that ranges [-20, 13]; starts with a default value of 7; that has some text describing it\n",
    "1. Display that slider\n",
    "1. In a different cell than the one where the slider is created grab the value from it and plot ``value * x ** 2`` from x = -10 to 10 (use matplotlib and put the ploting in a function)\n",
    "1. Make the process interactive (intead of having to rerun the slider definition cell and the plot cell)"
   ]
  },
  {
   "cell_type": "code",
   "execution_count": null,
   "metadata": {
    "id": "EfHD0liAWECN"
   },
   "outputs": [
    {
     "data": {
      "application/vnd.jupyter.widget-view+json": {
       "model_id": "b7aea68c946a4d468f42e086d5d8b004",
       "version_major": 2,
       "version_minor": 0
      },
      "text/plain": [
       "FloatSlider(value=7.0, description='Some text describing this float slider', max=13.0, min=-20.0)"
      ]
     },
     "metadata": {},
     "output_type": "display_data"
    }
   ],
   "source": [
    "# 1\n",
    "slider = widgets.FloatSlider(min=-20, max=13, value=7, description='Some text describing this float slider')\n",
    "# 2\n",
    "display(slider)"
   ]
  },
  {
   "cell_type": "code",
   "execution_count": null,
   "metadata": {},
   "outputs": [
    {
     "data": {
      "image/png": "[encoded data removed]",
      "text/plain": [
       "<Figure size 640x480 with 1 Axes>"
      ]
     },
     "metadata": {},
     "output_type": "display_data"
    }
   ],
   "source": [
    "# 3\n",
    "def plotLine(val):\n",
    "  x = np.arange(-10,10,0.1)\n",
    "  y = val * x ** 2\n",
    "  plt.plot(x,y)\n",
    "  plt.show()\n",
    "\n",
    "plotLine(slider.value)"
   ]
  },
  {
   "cell_type": "code",
   "execution_count": null,
   "metadata": {},
   "outputs": [
    {
     "data": {
      "application/vnd.jupyter.widget-view+json": {
       "model_id": "5a961ed27f6b48fa9c8219588eaddf0c",
       "version_major": 2,
       "version_minor": 0
      },
      "text/plain": [
       "interactive(children=(FloatSlider(value=7.9, description='Some text describing this float slider', max=13.0, m…"
      ]
     },
     "metadata": {},
     "output_type": "display_data"
    },
    {
     "data": {
      "text/plain": [
       "<function __main__.lineFunc(val)>"
      ]
     },
     "metadata": {},
     "output_type": "display_data"
    }
   ],
   "source": [
    "# 4\n",
    "widgets.interact(plotLine, val=slider)"
   ]
  },
  {
   "cell_type": "markdown",
   "metadata": {
    "id": "dr5FsuiUWECO"
   },
   "source": [
    "# Exercise 2: Multi-variable interactive functions\n",
    "1. Create a function that plots a \"generalized\" [cardioid](https://en.wikipedia.org/wiki/Cardioid). The polar equation for the cardioid is $r = 2 \\times (1-cos(\\theta))$, x and y are, therefore\n",
    "\n",
    "$x = r \\times cos(\\theta)\\,\\,\\,\\, = 2 \\times (1-cos(\\theta)) \\times cos(\\theta)$\n",
    "\n",
    "$y = r \\times sin(\\theta)\\,\\,\\,\\, = 2 \\times (1-cos(\\theta)) \\times sin(\\theta)$.\n",
    "\n",
    "By \"generalized\" what I mean is: multiply $\\theta$ by a number (a) in the equation for r and by another number (b) in the equations for x and y. I.e.\n",
    "\n",
    "$r = 2 \\times (1-cos(a\\times\\theta))$\n",
    "\n",
    "$x = r \\times cos(b\\times\\theta)$\n",
    "\n",
    "$y = r \\times sin(b\\times\\theta)$\n",
    "\n",
    "You should use values for $\\theta$ that go beyond $2\\pi$ in the function you create.\n",
    "\n",
    "2. Create a slider for a and b\n",
    "1. Make the ploting interactive\n",
    "\n",
    "I find the resulting shapes very pleasing, I hope you do too"
   ]
  },
  {
   "cell_type": "code",
   "execution_count": null,
   "metadata": {
    "id": "a-38wOkyWECP"
   },
   "outputs": [],
   "source": [
    "# 2\n",
    "a_slider = widgets.IntSlider(min=1,max=20,value=10,label='a',description='Inner Circle')\n",
    "b_slider = widgets.IntSlider(min=1,max=100,value=10,label='b',description='Outer Circle')"
   ]
  },
  {
   "cell_type": "code",
   "execution_count": null,
   "metadata": {
    "colab": {
     "base_uri": "https://localhost:8080/",
     "height": 545,
     "referenced_widgets": [
      "4c0eb381c5ad4bb9a169da31784c59d3",
      "025c02411a8c4c829eec1b621490cf16",
      "3f0362928b3b46b9b4a916d0f9850a30",
      "674d2191795d4609ab03eb5a2c948eab",
      "52f15bbed26c4e9a8669c33507cc9ecb",
      "682af14f52d84aef95d898e4216eacb9"
     ]
    },
    "id": "zNEuOenDWECP",
    "outputId": "a18d6644-8761-473a-8c9d-0b3a20ab038b"
   },
   "outputs": [],
   "source": [
    "# 1\n",
    "def plotCardioid(a,b):\n",
    "  theta = np.arange(0,2*np.pi,1e-3)\n",
    "  r = 2 * (1 - np.cos(a * theta))\n",
    "  x = r * np.cos(b * theta)\n",
    "  y = r * np.sin(b * theta)\n",
    "  plt.plot(x,y)\n",
    "  plt.show()"
   ]
  },
  {
   "cell_type": "code",
   "execution_count": null,
   "metadata": {},
   "outputs": [
    {
     "data": {
      "application/vnd.jupyter.widget-view+json": {
       "model_id": "191ec63d59bb48fba96f5bc51802168c",
       "version_major": 2,
       "version_minor": 0
      },
      "text/plain": [
       "interactive(children=(IntSlider(value=10, description='Inner Circle', max=20, min=1), IntSlider(value=10, desc…"
      ]
     },
     "metadata": {},
     "output_type": "display_data"
    },
    {
     "data": {
      "text/plain": [
       "<function __main__.plotCardioid(a, b)>"
      ]
     },
     "metadata": {},
     "output_type": "display_data"
    }
   ],
   "source": [
    "# 3\n",
    "widgets.interact(plotCardioid, a=a_slider, b=b_slider)"
   ]
  },
  {
   "cell_type": "markdown",
   "metadata": {
    "id": "gXjrZAWMWECP"
   },
   "source": [
    "# Exercise 3: Options\n",
    "\n",
    "In your project you may have some options for the user to select. You can use ``ipywidgets.Dropdown`` to create a dropdown menu for those options (there are other widgets that work well for selections). Make the interactions for this exercise \"on-demand\" (i.e., no live updating whilst moving the slider).\n",
    "\n",
    "1. Implement the model string for an SIR and a SEIR model in the correct places in ``model_with_options`` (use code that you already have from class)\n",
    "1. Users love to break things, we can help them see what's wrong by having good errors. For ``model_with_options`` if the user manages to pass some value for ``option`` that isn't SIR or SEIR (and they will manage to do it) and we don't have anything in the ``else`` clause the error will say something to the effect of ``model_string is not defined``. That error message is true but useless, the issue isn't that ``model_string`` doesn't exist but that the user passed an ivalid option. You can ``raise`` custom errors, implement one that is useful in the ``else`` clause. A simple example of error raising\n",
    "\n",
    "``raise Exception('My error!')``\n",
    "\n",
    "3. Add a dropdown for the options\n",
    "3. Add a slider for the model's end date\n",
    "3. Add a slider for a model parameter that is in both SIR and SEIR models (don't forget to add the variable to the function's signature: ``def model_with_options(option, end_date):`` --> ``def model_with_options(option, end_date, new_parameter):``)\n",
    "3. Add a slider for a model parameter that is only in one of the models (don't forget to add the variable to the function's signature)\n",
    "3. In another cell replace the dropdown for the options by some other appropriate widget\n"
   ]
  },
  {
   "cell_type": "code",
   "execution_count": null,
   "metadata": {
    "colab": {
     "base_uri": "https://localhost:8080/",
     "height": 550,
     "referenced_widgets": [
      "d651718fadb44d32bbe99af3f6b11f51",
      "1fa89adecdac41a2871fdfbd54199301",
      "c017bf8d9b8746e6b878f81da60294b5",
      "14b55f9e69fa4aba8702cf2a5b2fdfac",
      "e132fd29e4f94d119308ece258535830",
      "5430e831a33b41b19ca3385da511ff33",
      "68f3e25fac7a4c848035a3030056ccff",
      "c3dabce0d9c54f9787701b3014f121d1",
      "7408a9ecf4a04853aedba7bf41c07c02",
      "c70a649fb432491986b307b71e574cac",
      "62b21932fa1e4fbe910fbe9cdfcd855f",
      "42bf57807d5d4c77be4bd67be4d14bd6"
     ]
    },
    "id": "C9TGcSIUWECQ",
    "outputId": "b018610f-23cc-440c-d27f-f0a6bd5bf6ba"
   },
   "outputs": [],
   "source": [
    "# 1\n",
    "def model_with_options(modelType:str, transmission, exposure, infection, recovery, end:int):\n",
    "    if modelType == 'SEIR':\n",
    "        r = te.loada(f'''\n",
    "            ES_E: S-> E; k_expose * k_trans * I * S/S0\n",
    "            EE_I: E-> I; k_infect * E\n",
    "            II_R: I-> R; k_recover * I\n",
    "\n",
    "            k_trans = {transmission}\n",
    "            k_expose = {exposure}\n",
    "            k_infect = {infection}\n",
    "            k_recover = {recovery}\n",
    "\n",
    "            S0 = 1E6\n",
    "\n",
    "            E = 0\n",
    "            I = 1\n",
    "            R = 0\n",
    "\n",
    "            S = S0 - I - R - E\n",
    "        ''')\n",
    "    elif modelType == 'SIR':\n",
    "        r = te.loada(f'''\n",
    "        ES_I: S-> I; k_expose * k_trans * I * S/S0\n",
    "        II_R: I-> R; k_recover * I\n",
    "\n",
    "        k_trans = {transmission}\n",
    "        k_expose = {exposure}\n",
    "        k_recover = {recovery}\n",
    "\n",
    "        S0 = 1E6\n",
    "\n",
    "        I = 1\n",
    "        R = 0\n",
    "\n",
    "        S = S0 - I - R\n",
    "        ''')\n",
    "    else:\n",
    "        # 2\n",
    "        raise ValueError('Model Type must be SIR or SEIR. You entered: ' + modelType)\n",
    "    \n",
    "    r.simulate(0, end, end*10)\n",
    "    r.plot()"
   ]
  },
  {
   "cell_type": "code",
   "execution_count": null,
   "metadata": {},
   "outputs": [],
   "source": [
    "# 3\n",
    "dropdown = widgets.Dropdown(options=['SIR', 'SEIR'], description='Model Type:')\n",
    "\n",
    "# 4\n",
    "end_slider = widgets.IntSlider(min=0, max=1000, value=50, description='End Time')\n",
    "\n",
    "# 5\n",
    "transmission_slider = widgets.FloatSlider(min=1e-3, max=10, step=.001, value=0.1, description='Transmission Rate')\n",
    "exposure_slider = widgets.FloatSlider(min=1, max=100, value=50, step=1, description='Average Exposure')\n",
    "recovery_slider = widgets.FloatSlider(min=2e-3, max=2, value=.2, step=.001, description='Recovery Rate')\n",
    "\n",
    "# 6\n",
    "infection_slider = widgets.FloatSlider(min=2e-3, max=2, value=.2, step=.001, description='Infection Rate')"
   ]
  },
  {
   "cell_type": "code",
   "execution_count": null,
   "metadata": {},
   "outputs": [
    {
     "data": {
      "application/vnd.jupyter.widget-view+json": {
       "model_id": "1f79cc2cf91e4af68ecd52d91b9dc189",
       "version_major": 2,
       "version_minor": 0
      },
      "text/plain": [
       "interactive(children=(Dropdown(description='Model Type:', options=('SIR', 'SEIR'), value='SIR'), FloatSlider(v…"
      ]
     },
     "metadata": {},
     "output_type": "display_data"
    },
    {
     "data": {
      "text/plain": [
       "<function __main__.model_with_options(modelType: str, transmission, exposure, infection, recovery, end: int)>"
      ]
     },
     "metadata": {},
     "output_type": "display_data"
    }
   ],
   "source": [
    "widgets.interact(model_with_options, modelType=dropdown, transmission=transmission_slider, infection=infection_slider, recovery=recovery_slider, exposure=exposure_slider, end=end_slider)"
   ]
  },
  {
   "cell_type": "code",
   "execution_count": null,
   "metadata": {},
   "outputs": [
    {
     "data": {
      "application/vnd.jupyter.widget-view+json": {
       "model_id": "fbf97eeb72ff4aae9275ff81f54061f1",
       "version_major": 2,
       "version_minor": 0
      },
      "text/plain": [
       "interactive(children=(ToggleButtons(description='Model Type:', options=('SIR', 'SEIR'), value='SIR'), FloatSli…"
      ]
     },
     "metadata": {},
     "output_type": "display_data"
    },
    {
     "data": {
      "text/plain": [
       "<function __main__.model_with_options(modelType: str, transmission, exposure, infection, recovery, end: int)>"
      ]
     },
     "metadata": {},
     "output_type": "display_data"
    }
   ],
   "source": [
    "# 7\n",
    "buttons = widgets.ToggleButtons(options=['SIR', 'SEIR'], description='Model Type:')\n",
    "widgets.interact(model_with_options, modelType=buttons, transmission=transmission_slider, infection=infection_slider, recovery=recovery_slider, exposure=exposure_slider, end=end_slider)"
   ]
  },
  {
   "cell_type": "markdown",
   "metadata": {
    "id": "AsAQFEt_WECT"
   },
   "source": [
    "# Exercise 4: Decorating code\n",
    "With python you can super-charge functions with decorators ([read more](https://realpython.com/primer-on-python-decorators/)), in short: \"decorator is a function that takes another function and extends the behavior of the latter function without explicitly modifying it.\" Isn't that exacly what we are doing with the sliders and functions? We are grabing a simple function that plots, e.g., a cardioid and we're extending its behaviour to be interactive. The decoration syntax looks like\n",
    "\n",
    "``\n",
    "@decorator\n",
    "def function(var1, var2, ...):\n",
    "    do_things\n",
    "    return\n",
    "``\n",
    "\n",
    "So intead of\n",
    "\n",
    "``\n",
    "def cube(x):\n",
    "    return x**3\n",
    "widgets.interact(cube, x=widgets.IntSlider(\n",
    "    min=0,\n",
    "    max=10,\n",
    "    step=1,\n",
    "    description='To cube:',\n",
    "    value=3\n",
    "))\n",
    "``\n",
    "\n",
    "you could do \n",
    "\n",
    "``\n",
    "@widgets.interact(x=widgets.IntSlider(min=0,max=10,step=1,description='To cube:',value=3))\n",
    "def cube(x):\n",
    "    return x**3\n",
    "``\n",
    "\n",
    "Are those two any different? No (maybe one of them is sligtly faster), in this case it's all about the coder's personal preference. There are other situations that I believe decorators are better.\n",
    "\n",
    "Choose one of the previous exercises to remake using decorators"
   ]
  },
  {
   "cell_type": "code",
   "execution_count": null,
   "metadata": {},
   "outputs": [
    {
     "data": {
      "application/vnd.jupyter.widget-view+json": {
       "model_id": "d396ba3e75a747a09ad31f74c2e54759",
       "version_major": 2,
       "version_minor": 0
      },
      "text/plain": [
       "interactive(children=(FloatSlider(value=7.0, description='Some text describing this float slider', max=13.0, m…"
      ]
     },
     "metadata": {},
     "output_type": "display_data"
    }
   ],
   "source": [
    "@widgets.interact(val=widgets.FloatSlider(min=-20, max=13, value=7, description='Some text describing this float slider'))\n",
    "def plotLine(val):\n",
    "  x = np.arange(-10,10,0.1)\n",
    "  y = val * x ** 2\n",
    "  plt.plot(x,y)\n",
    "  plt.show()"
   ]
  },
  {
   "cell_type": "code",
   "execution_count": null,
   "metadata": {
    "id": "0hKRql0eWECV"
   },
   "outputs": [],
   "source": []
  },
  {
   "cell_type": "code",
   "execution_count": null,
   "metadata": {},
   "outputs": [],
   "source": []
  }
 ],
 "metadata": {
  "kernelspec": {
   "display_name": "Python 3",
   "language": "python",
   "name": "python3"
  },
  "language_info": {
   "codemirror_mode": {
    "name": "ipython",
    "version": 3
   },
   "file_extension": ".py",
   "mimetype": "text/x-python",
   "name": "python",
   "nbconvert_exporter": "python",
   "pygments_lexer": "ipython3",
   "version": "3.10.6 (main, Aug 30 2022, 04:58:14) [Clang 13.1.6 (clang-1316.0.21.2.5)]"
  },
  "vscode": {
   "interpreter": {
    "hash": "b0fa6594d8f4cbf19f97940f81e996739fb7646882a419484c72d19e05852a7e"
   }
  }
 },
 "nbformat": 4,
 "nbformat_minor": 2
}
